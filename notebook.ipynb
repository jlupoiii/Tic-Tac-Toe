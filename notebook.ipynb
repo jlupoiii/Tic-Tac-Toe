{
 "cells": [
  {
   "cell_type": "code",
   "execution_count": 1,
   "id": "56e0d09f",
   "metadata": {},
   "outputs": [],
   "source": [
    "from game import *"
   ]
  },
  {
   "cell_type": "code",
   "execution_count": 2,
   "id": "f798cb08",
   "metadata": {},
   "outputs": [],
   "source": [
    "g = Game()"
   ]
  },
  {
   "cell_type": "code",
   "execution_count": 3,
   "id": "23eb9222",
   "metadata": {},
   "outputs": [
    {
     "name": "stdout",
     "output_type": "stream",
     "text": [
      "['1', '2', '3', '4', '5', '6', '7', '8', '9']\n",
      "['1', '2', '3', '4', '5', '6', '7', '8', '9']\n",
      "_______\n",
      "|1 2 3|\n",
      "|4 5 6|\n",
      "|7 8 9|\n",
      "-------\n",
      "_______\n",
      "|1 2 x|\n",
      "|4 5 6|\n",
      "|7 8 9|\n",
      "-------\n"
     ]
    }
   ],
   "source": [
    "print(g.board)\n",
    "print(g.moves)\n",
    "print(g)\n",
    "g.move(3, 'x')\n",
    "print(g)"
   ]
  },
  {
   "cell_type": "code",
   "execution_count": 4,
   "id": "4ce2902e",
   "metadata": {},
   "outputs": [
    {
     "name": "stdout",
     "output_type": "stream",
     "text": [
      "n\n",
      "\n"
     ]
    }
   ],
   "source": [
    "print(g.game_state())\n",
    "print()"
   ]
  },
  {
   "cell_type": "code",
   "execution_count": 5,
   "id": "c2c66a57",
   "metadata": {},
   "outputs": [],
   "source": [
    "# board = ['1', '2', '3', '4', 'x', '6', '7', '8', '9']\n",
    "\n",
    "\n",
    "# p = '{} {} {}\\n{} {} {}\\n{} {} {}'.format(*board)\n",
    "\n",
    "# print(p)"
   ]
  },
  {
   "cell_type": "code",
   "execution_count": null,
   "id": "d6ecd839",
   "metadata": {},
   "outputs": [],
   "source": []
  }
 ],
 "metadata": {
  "kernelspec": {
   "display_name": "Python 3 (ipykernel)",
   "language": "python",
   "name": "python3"
  },
  "language_info": {
   "codemirror_mode": {
    "name": "ipython",
    "version": 3
   },
   "file_extension": ".py",
   "mimetype": "text/x-python",
   "name": "python",
   "nbconvert_exporter": "python",
   "pygments_lexer": "ipython3",
   "version": "3.9.7"
  }
 },
 "nbformat": 4,
 "nbformat_minor": 5
}
