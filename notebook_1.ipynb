{
 "cells": [
  {
   "cell_type": "code",
   "execution_count": 9,
   "id": "0c397c41",
   "metadata": {},
   "outputs": [],
   "source": [
    "import random"
   ]
  },
  {
   "cell_type": "code",
   "execution_count": 52,
   "id": "7e64d67c",
   "metadata": {},
   "outputs": [],
   "source": [
    "class Game():\n",
    "    def __init__(self):\n",
    "        self.state = [0]*9\n",
    "        q_1 = {}\n",
    "        q_2 = {}\n",
    "    \n",
    "    def move(self, board, position, team):\n",
    "        self.state[position] = team\n",
    "        return self.state\n",
    "    \n",
    "    def finished(self, board):\n",
    "        return board[0]==board[1]==board[2]!=0 or \\\n",
    "            board[3]==board[4]==board[5]!=0 or \\\n",
    "            board[6]==board[7]==board[8]!=0 or \\\n",
    "            board[0]==board[3]==board[6]!=0 or \\\n",
    "            board[1]==board[4]==board[7]!=0 or \\\n",
    "            board[2]==board[5]==board[8]!=0 or \\\n",
    "            board[0]==board[4]==board[8]!=0 or \\\n",
    "            board[2]==board[4]==board[6]!=0 or \\\n",
    "            0 not in board\n",
    "\n",
    "    def get_reward(self, board, team):\n",
    "        if board[0]==board[1]==board[2]==team or \\\n",
    "                board[3]==board[4]==board[5]==team or \\\n",
    "                board[6]==board[7]==board[8]==team or \\\n",
    "                board[0]==board[3]==board[6]==team or \\\n",
    "                board[1]==board[4]==board[7]==team or \\\n",
    "                board[2]==board[5]==board[8]==team or \\\n",
    "                board[0]==board[4]==board[8]==team or \\\n",
    "                board[2]==board[4]==board[6]==team:\n",
    "            return 1\n",
    "        else:\n",
    "            return 0\n",
    "        \n",
    "    def get_action(self, board, team, q_table, epsilon):\n",
    "        \n",
    "    \n",
    "    def reset(self):\n",
    "        self.state = [0]*9\n",
    "        \n",
    "    def __repr__(self):\n",
    "        return '_______\\n|{} {} {}|\\n|{} {} {}|\\n|{} {} {}|\\n-------'.format(*[s for s in self.state])\n",
    "        \n",
    "        "
   ]
  },
  {
   "cell_type": "code",
   "execution_count": null,
   "id": "5b0e77f0",
   "metadata": {},
   "outputs": [],
   "source": []
  },
  {
   "cell_type": "code",
   "execution_count": null,
   "id": "9bdc96db",
   "metadata": {},
   "outputs": [],
   "source": []
  },
  {
   "cell_type": "code",
   "execution_count": null,
   "id": "7b59a0e8",
   "metadata": {},
   "outputs": [],
   "source": []
  },
  {
   "cell_type": "code",
   "execution_count": null,
   "id": "bc2dcc88",
   "metadata": {},
   "outputs": [],
   "source": []
  },
  {
   "cell_type": "code",
   "execution_count": null,
   "id": "a21465d6",
   "metadata": {},
   "outputs": [],
   "source": []
  },
  {
   "cell_type": "code",
   "execution_count": null,
   "id": "960367a1",
   "metadata": {},
   "outputs": [],
   "source": []
  },
  {
   "cell_type": "code",
   "execution_count": null,
   "id": "554d45c7",
   "metadata": {},
   "outputs": [],
   "source": []
  }
 ],
 "metadata": {
  "kernelspec": {
   "display_name": "Python 3 (ipykernel)",
   "language": "python",
   "name": "python3"
  },
  "language_info": {
   "codemirror_mode": {
    "name": "ipython",
    "version": 3
   },
   "file_extension": ".py",
   "mimetype": "text/x-python",
   "name": "python",
   "nbconvert_exporter": "python",
   "pygments_lexer": "ipython3",
   "version": "3.9.7"
  }
 },
 "nbformat": 4,
 "nbformat_minor": 5
}
