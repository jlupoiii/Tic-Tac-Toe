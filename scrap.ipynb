{
 "cells": [
  {
   "cell_type": "code",
   "execution_count": 1,
   "id": "6c21d46f",
   "metadata": {},
   "outputs": [],
   "source": [
    "import random"
   ]
  },
  {
   "cell_type": "code",
   "execution_count": 5,
   "id": "cb5a768c",
   "metadata": {},
   "outputs": [],
   "source": [
    "def finished(board):\n",
    "    if board[0]==board[1]==board[2] or \\\n",
    "            board[3]==board[4]==board[5] or \\\n",
    "            board[6]==board[7]==board[8] or \\\n",
    "            board[0]==board[3]==board[6] or \\\n",
    "            board[1]==board[4]==board[7] or \\\n",
    "            board[2]==board[5]==board[8] or \\\n",
    "            board[0]==board[4]==board[8] or \\\n",
    "            board[2]==board[4]==board[6]:\n",
    "        return board[0]\n",
    "    elif 0 not in board:\n",
    "        return 0\n",
    "    else:\n",
    "        return False\n",
    "        \n",
    "def reward(board, team):\n",
    "    result = finished(board)\n",
    "    if result==team:\n",
    "        return 1\n",
    "    if result==0:\n",
    "        result"
   ]
  },
  {
   "cell_type": "code",
   "execution_count": 4,
   "id": "03730277",
   "metadata": {},
   "outputs": [
    {
     "name": "stdout",
     "output_type": "stream",
     "text": [
      "True\n"
     ]
    }
   ],
   "source": [
    "board = [1]*9\n",
    "print(reward(board, 1))"
   ]
  },
  {
   "cell_type": "code",
   "execution_count": null,
   "id": "41610cf2",
   "metadata": {},
   "outputs": [],
   "source": []
  },
  {
   "cell_type": "code",
   "execution_count": null,
   "id": "a457b8d1",
   "metadata": {},
   "outputs": [],
   "source": []
  },
  {
   "cell_type": "code",
   "execution_count": null,
   "id": "6a438f30",
   "metadata": {},
   "outputs": [],
   "source": []
  },
  {
   "cell_type": "code",
   "execution_count": null,
   "id": "717925fa",
   "metadata": {},
   "outputs": [],
   "source": []
  },
  {
   "cell_type": "code",
   "execution_count": null,
   "id": "81b749b1",
   "metadata": {},
   "outputs": [],
   "source": []
  }
 ],
 "metadata": {
  "kernelspec": {
   "display_name": "Python 3 (ipykernel)",
   "language": "python",
   "name": "python3"
  },
  "language_info": {
   "codemirror_mode": {
    "name": "ipython",
    "version": 3
   },
   "file_extension": ".py",
   "mimetype": "text/x-python",
   "name": "python",
   "nbconvert_exporter": "python",
   "pygments_lexer": "ipython3",
   "version": "3.9.7"
  }
 },
 "nbformat": 4,
 "nbformat_minor": 5
}
